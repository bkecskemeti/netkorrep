{
 "cells": [
  {
   "cell_type": "markdown",
   "metadata": {},
   "source": [
    "## 1. feladat\n",
    "\n",
    "A kézilabda edzéseken 16 tanuló vesz részt, átlagmagasságuk 172 cm. Mennyi a magasságaik összege?"
   ]
  },
  {
   "cell_type": "markdown",
   "metadata": {},
   "source": [
    "### Megoldás:\n",
    "\n",
    "*Tudjuk:*\n",
    "\n",
    "Az átlagot definíció szerint úgy kell kiszámolni, hogy összeadjuk a magasságokat, és elosztjuk a tanulók számával.\n",
    "\n",
    "*Példa*:\n",
    "\n",
    "Két tanuló magassága 180 cm és 164 cm. A magasságaik átlaga ekkor 172 cm, mert:\n",
    "\n",
    "\\begin{equation*}\n",
    "\\frac{180 + 164}{2} = \\frac{344}{2} = 172\n",
    "\\end{equation*}\n",
    "\n",
    "A *magasságaik összegét* tehát úgy kapjuk, hogy az átlagot megszorozzuk a tanulók számával:\n",
    "\n",
    "\\begin{align*}\n",
    "\\frac{180 + 164}{2} = \\frac{344}{2} &= 172\\\\\n",
    "180 + 164 &= 2*172\n",
    "\\end{align*}\n",
    "\n",
    "*Tehát*:\n",
    "\n",
    "A megoldás módszere ugyanaz 2 tanuló és 16 tanuló esetén. A feladatban mind a 16 tanuló magasságait nem ismerjük, de nem is kell. Ha a magasságaik $m_1, m_2, ..., m_{16}$, akkor, az átlag definíciója alapján:\n",
    "\n",
    "\\begin{align*}\n",
    "\\frac{m_1 + m_2 + ... + m_{16}}{16} &= 172\\\\\n",
    "m_1 + m_2 + ... + m_{16} &= 16*172 = 2752\n",
    "\\end{align*}\n",
    "\n",
    "A válasz tehát az, hogy a 16 tanuló magasságainak összege **2752 cm**."
   ]
  },
  {
   "cell_type": "markdown",
   "metadata": {},
   "source": [
    "## 2. feladat\n",
    "\n",
    "A 8-nak és egy másik pozitív számnak a mértani közepe 12. Melyik ez a másik szám?"
   ]
  },
  {
   "cell_type": "markdown",
   "metadata": {},
   "source": [
    "### Megoldás:\n",
    "\n",
    "*Tudjuk:*\n",
    "\n",
    "Két szám, például $a$ és $b$, *mértani* közepét a következőképpen számoljuk ki:\n",
    "\n",
    "\\begin{equation*}\n",
    "\\sqrt{a*b}\n",
    "\\end{equation*}\n",
    "\n",
    "*Megjegyzés*:\n",
    "\n",
    "A *mértani közép* a geometriából jön. Ha adott egy téglalap, akkor a mértani közép azt fejezi ki, hogy mekkora négyzetté lehet gyúrni a téglalapot, hogy a területe változatlan maradjon.\n",
    "\n",
    "*Tehát*:\n",
    "\n",
    "Legyen $a=8$, és az ismeretlen pozitív szám $b$. A mértani közép definíciója alapján:\n",
    "\n",
    "\\begin{align*}\n",
    "\\sqrt{a*b}=\\sqrt{8*b}&=12\\\\\n",
    "8*b&=144\\\\\n",
    "b&=\\frac{144}{8}=18\n",
    "\\end{align*}\n",
    "\n",
    "Tehát a másik szám a **18**."
   ]
  },
  {
   "cell_type": "code",
   "execution_count": null,
   "metadata": {},
   "outputs": [],
   "source": []
  }
 ],
 "metadata": {
  "kernelspec": {
   "display_name": "Python 3",
   "language": "python",
   "name": "python3"
  },
  "language_info": {
   "codemirror_mode": {
    "name": "ipython",
    "version": 3
   },
   "file_extension": ".py",
   "mimetype": "text/x-python",
   "name": "python",
   "nbconvert_exporter": "python",
   "pygments_lexer": "ipython3",
   "version": "3.7.2"
  }
 },
 "nbformat": 4,
 "nbformat_minor": 2
}
