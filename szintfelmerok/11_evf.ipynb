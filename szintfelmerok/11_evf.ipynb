{
 "cells": [
  {
   "cell_type": "markdown",
   "metadata": {},
   "source": [
    "# Általános jótanácsok:\n",
    "\n",
    "1. A matektanár is ember. Ő javítja a tesztet, és az a dolga, hogy pontokat adjon. Tedd neki könnyebbé, hogy pontokat adjon neked!\n",
    "2. Ezt úgy tudod elérni, hogy jól struktúrálod a megoldást. A jól struktúrált megoldás fél siker. Ha nem is tökéletes, pontokat akkor is kaphatsz a részmegoldásra.\n",
    "3. Összevissza, érthetetlen félmegoldásra nem kapsz pontot. Akkor se, ha lehet benne valami jó ötlet csírája. A tanárnak sok dolga van még, és nem fog órákat azon filozófálni, hogy mire is gondolhattál.\n",
    "4. Hogyan struktúráld jól a megoldást?\n",
    "  - Írd le a definíciókat. A feladatok nagy része olyan, hogy, ha tudod a definíciókat, akkor nem olyan nehéz a megoldás.\n",
    "  - Ha nem jön ki a megoldás, vagy számolási hiba van benne, a definícióra akkor is lehet, hogy kapsz pontot. Írd le a definíciót!\n",
    "  - Az egyenleteket rendezd egymás alá, hogy világos legyen, melyik lépés melyik után jön.\n",
    "  - A megoldást húzd alá, vagy emeld ki valahogy."
   ]
  },
  {
   "cell_type": "markdown",
   "metadata": {},
   "source": [
    "# Megjegyzések a lentebbi megoldásokhoz:\n",
    "1. Az alábbi megoldások jó példák. Ki van emelve, mit tudunk, világos, melyik lépés melyik után jön, és, hogy hol a megoldás.\n",
    "2. A fontos részek a \"Tudjuk\" a \"Megoldás\", és a \"Tehát\" részek.\n",
    "3. A \"Példa\", és \"Megjegyzés\" részek nem szükségesek, csak azért vannak, hogy jobban értsd a megoldást."
   ]
  },
  {
   "cell_type": "markdown",
   "metadata": {},
   "source": [
    "## 1. feladat\n",
    "\n",
    "A kézilabda edzéseken 16 tanuló vesz részt, átlagmagasságuk 172 cm. Mennyi a magasságaik összege?"
   ]
  },
  {
   "cell_type": "markdown",
   "metadata": {},
   "source": [
    "### Megoldás:\n",
    "\n",
    "*Tudjuk:*\n",
    "\n",
    "Az átlagot definíció szerint úgy kell kiszámolni, hogy összeadjuk a magasságokat, és elosztjuk a tanulók számával.\n",
    "\n",
    "*Példa*:\n",
    "\n",
    "Két tanuló magassága 180 cm és 164 cm. A magasságaik átlaga ekkor 172 cm, mert:\n",
    "\n",
    "\\begin{equation*}\n",
    "\\frac{180 + 164}{2} = \\frac{344}{2} = 172\n",
    "\\end{equation*}\n",
    "\n",
    "A *magasságaik összegét* tehát úgy kapjuk, hogy az átlagot megszorozzuk a tanulók számával:\n",
    "\n",
    "\\begin{align*}\n",
    "\\frac{180 + 164}{2} = \\frac{344}{2} &= 172\\\\\n",
    "180 + 164 &= 2*172\n",
    "\\end{align*}\n",
    "\n",
    "*Tehát*:\n",
    "\n",
    "A megoldás módszere ugyanaz 2 tanuló és 16 tanuló esetén. A feladatban mind a 16 tanuló magasságait nem ismerjük, de nem is kell. Ha a magasságaik $m_1, m_2, ..., m_{16}$, akkor, az átlag definíciója alapján:\n",
    "\n",
    "\\begin{align*}\n",
    "\\frac{m_1 + m_2 + ... + m_{16}}{16} &= 172\\\\\n",
    "m_1 + m_2 + ... + m_{16} &= 16*172 = 2752\n",
    "\\end{align*}\n",
    "\n",
    "A 16 tanuló magasságának az összege $m_1 + m_2 + ... + m_{16}$. A válasz tehát az, hogy a 16 tanuló magasságainak összege **2752 cm**."
   ]
  },
  {
   "cell_type": "markdown",
   "metadata": {},
   "source": [
    "## 2. feladat\n",
    "\n",
    "A 8-nak és egy másik pozitív számnak a mértani közepe 12. Melyik ez a másik szám?"
   ]
  },
  {
   "cell_type": "markdown",
   "metadata": {},
   "source": [
    "### Megoldás:\n",
    "\n",
    "*Tudjuk:*\n",
    "\n",
    "Két szám, például $a$ és $b$, *mértani közepét* a következőképpen számoljuk ki:\n",
    "\n",
    "\\begin{equation*}\n",
    "\\sqrt{a*b}\n",
    "\\end{equation*}\n",
    "\n",
    "*Megjegyzés*:\n",
    "\n",
    "A *mértani közép* a geometriából jön. Ha adott egy téglalap, akkor a mértani közép azt fejezi ki, hogy mekkora négyzetté lehet gyúrni a téglalapot, hogy a területe változatlan maradjon:\n",
    "\n",
    "<img src=\"geomean.png\" width=\"500px\">\n",
    "\n",
    "Ez alapján, ha $a$ és $b$ a két oldal, és $m$ a mértani közép, akkor az $a, b$ oldalú téglalap területe $ab$, az $m$ oldalú négyzet területe $mm=m^2$. A négyzet és a téglalap területe egyenlő, tehát:\n",
    "\n",
    "\\begin{align*}\n",
    "m^2&=ab\\\\\n",
    "m&=\\sqrt{ab}\\\\\n",
    "\\end{align*}\n",
    "\n",
    "*Tehát*:\n",
    "\n",
    "Legyen $a=8$, és az ismeretlen pozitív szám $b$. A mértani közép definíciója alapján:\n",
    "\n",
    "\\begin{align*}\n",
    "\\sqrt{a*b}=\\sqrt{8*b}&=12\\\\\n",
    "(\\sqrt{8*b})^2&=12^2\\\\\n",
    "8*b&=144\\\\\n",
    "b&=\\frac{144}{8}=18\n",
    "\\end{align*}\n",
    "\n",
    "Tehát a másik szám a **18**."
   ]
  },
  {
   "cell_type": "markdown",
   "metadata": {},
   "source": [
    "## 3. feladat\n",
    "\n",
    "Add meg az alábbi állítások igazságértékét (igaz vagy hamis), majd döntsd el, hogy a b) és a c) jelű állítások közül melyik az a) jelű állítás megfordítása!\n",
    "\n",
    "a. Ha az ABCD négyszög téglalap, akkor átlói felezik egymást.  \n",
    "b. Ha az ABCD négyszög átlói felezik egymást, akkor ez a négyszög téglalap  \n",
    "c. Ha az ABCD négyszög nem téglalap, akkor átlói nem felezik egymást."
   ]
  },
  {
   "cell_type": "markdown",
   "metadata": {},
   "source": [
    "### Megoldás\n",
    "\n",
    "*Tudjuk:*\n",
    "\n",
    "- A téglalap olyan négyszög, aminek minden belső szöge 90 fokos.\n",
    "- A paralelogramma olyan négyszög, aminek szemközti oldalai párhuzamosak.\n",
    "- A logikában a \"ha A akkor B\" típusú állításoknál az A-t feltételnek, a B-t következtetésnek nevezzük.\n",
    "- A \"ha A akkor B\" állítás megfordítása a \"ha B, akkor A\". Nem mindig igaz, hogy ha az állítás igaz, akkor a megfordítása is.\n",
    "\n",
    "*Tehát:*\n",
    "\n",
    "- Mivel a paralelogramma szemközti oldalai párhuzamosak, ezért egyenlő hosszúak is. Ebből következik, hogy a paralelogramma átlói felezik egymást.\n",
    "- Minden téglalap szemközti oldalai párhuzamosak, ezért minden téglalap paralelogramma.\n",
    "- Nem minden paralelogramma téglalap, mivel a paralelogramma két oldala által bezárt szög tetszőleges lehet.\n",
    "\n",
    "<img src=\"logic.png\" width=\"300px\">\n",
    "\n",
    "*Ez alapján:*\n",
    "\n",
    "- Az a. állítás **igaz**\n",
    "- A b. állítás **hamis** (ellenpélda egy olyan paralelogramma, aminek oldalai nem 90 fokos szöget zárnak be).\n",
    "- A c. állítás **hamis** (ellenpélda ugyanaz)\n",
    "- Az a. állítás megfordítása a b., mivel a b.-t úgy kapjuk, hogy az állításban felcseréljük a feltételt a következtetéssel. "
   ]
  },
  {
   "cell_type": "markdown",
   "metadata": {},
   "source": [
    "## 4. feladat\n",
    "\n",
    "Egy szög szárait az ábrán látható módon párhuzamos egyenesekkel metszettük. Töltsd ki az alábbi táblázat üresen hagyott rovatait! (Az adatok ugyanabban a hosszúságegységben értendők.)"
   ]
  },
  {
   "cell_type": "markdown",
   "metadata": {},
   "source": [
    "### Megoldás\n",
    "\n",
    "<img src=\"coming_soon.png\" width=\"200px\" align=\"left\">"
   ]
  },
  {
   "cell_type": "markdown",
   "metadata": {},
   "source": [
    "## 5. feladat\n",
    "\n",
    "Az ABCD négyszög szemközti oldalaira vektorokat illesztünk. AB = a, DC = b. Az AD oldal A-hoz közelebbi negyedelő\n",
    "pontja E, a BC oldal B-hez közelebbi negyedelő pontja F. Határozzuk meg az EF vektort az a és b vektorok segítségével."
   ]
  },
  {
   "cell_type": "markdown",
   "metadata": {},
   "source": [
    "### Megoldás\n",
    "\n",
    "<img src=\"coming_soon.png\" width=\"200px\" align=\"left\">"
   ]
  },
  {
   "cell_type": "markdown",
   "metadata": {},
   "source": [
    "## 6. feladat\n",
    "\n",
    "Mely valós számokra értelmezhető a $\\frac{1}{\\sqrt{2x+7}}$ kifejezés? "
   ]
  },
  {
   "cell_type": "markdown",
   "metadata": {},
   "source": [
    "### Megoldás:\n",
    "\n",
    "*Tudjuk:*\n",
    "    \n",
    "1. Az $f(x)=\\sqrt{x}$ függvény valós számokra akkor értelmezett, ha $x$ nem negatív, azaz $x\\geq0$.\n",
    "2. Nullával nem lehet osztani, tehát a nevező nem lehet $0$.\n",
    "\n",
    "*Tehát:*\n",
    "\n",
    "A gyökvonás (1.) miatt:\n",
    "\n",
    "\\begin{align*}\n",
    "\\ 2x+7&\\geq 0\\\\\n",
    "\\ x&\\geq -\\frac{7}{2}\n",
    "\\end{align*}\n",
    "\n",
    "Az osztás (2.) miatt:\n",
    "\n",
    "\\begin{align*}\n",
    "\\sqrt{2x+7}&\\neq 0\\\\\n",
    "(\\sqrt{2x+7})^2&\\neq 0^2\\\\\n",
    "\\ 2x+7&\\neq 0\\\\\n",
    "\\ x&\\neq -\\frac{7}{2}\n",
    "\\end{align*}\n",
    "\n",
    "A két feltételnek egyszerre kell fenn állnia, azaz a megoldás $\\mathbf{x> -\\frac{7}{2}}$."
   ]
  },
  {
   "cell_type": "markdown",
   "metadata": {},
   "source": [
    "## 7. feladat:\n",
    "\n",
    "Tekintsük azt a derékszögű háromszöget, amelyben az átfogó hossza $1$, az $\\alpha$ hegyesszög melletti befogó hossza pedig $\\sin{\\alpha}$.\n",
    "Mekkora az $\\alpha$ szög? Válaszodat indokold!"
   ]
  },
  {
   "cell_type": "markdown",
   "metadata": {},
   "source": [
    "### Megoldás\n",
    "\n",
    "<img src=\"coming_soon.png\" width=\"200px\" align=\"left\">"
   ]
  },
  {
   "cell_type": "markdown",
   "metadata": {},
   "source": [
    "## 8. feladat:\n",
    "\n",
    "Oldd meg a valós számok halmazán a következő egyenlőtlenségeket! Mindkét esetben ábrázold a megoldáshalmazt számegyenesen!"
   ]
  },
  {
   "cell_type": "markdown",
   "metadata": {},
   "source": [
    "a. $x-\\frac{x-1}{2}\\gt \\frac{x-3}{4}-\\frac{x-2}{3}$"
   ]
  },
  {
   "attachments": {},
   "cell_type": "markdown",
   "metadata": {},
   "source": [
    "### Megoldás\n",
    "\n",
    "\\begin{align*}\n",
    "x-\\frac{x-1}{2}&\\gt \\frac{x-3}{4}-\\frac{x-2}{3}\\\\\n",
    "12(x-\\frac{x-1}{2})&\\gt 12(\\frac{x-3}{4}-\\frac{x-2}{3})\\\\\n",
    "12x-6(x-1)&\\gt 3(x-3)-4(x-2)\\\\\n",
    "12x-6x+6&\\gt 3x-9-4x+8\\\\\n",
    "6x+6&\\gt -x-1\\\\\n",
    "7x&\\gt -7\\\\\n",
    "x&\\gt -1\n",
    "\\end{align*}\n",
    "\n",
    "<img src=\"11a.png\" width=\"300px\">"
   ]
  },
  {
   "cell_type": "markdown",
   "metadata": {},
   "source": [
    "b. $-3x^2-1\\leq -4$"
   ]
  },
  {
   "cell_type": "markdown",
   "metadata": {},
   "source": [
    "### Megoldás\n",
    "\n",
    "\\begin{align*}\n",
    "-3x^2-1&\\leq -4\\\\\n",
    "-3x^2+3&\\leq 0\\\\\n",
    "-x^2+1&\\leq 0\\\\\n",
    "1-x^2&\\leq 0\\\\\n",
    "(1-x)(1+x)&\\leq 0\n",
    "\\end{align*}\n",
    "\n",
    "*Tudjuk:*\n",
    "\n",
    "Egy két tényezőjű szorzat akkor negatív, ha az egyik tényezője negatív, a másik pozitív.\n",
    "\n",
    "Ez alapján, ábrázolva a tényezők előjelét:\n",
    "\n",
    "<img src=\"11b.png\" width=\"400px\">\n",
    "\n",
    "*Tehát:*\n",
    "\n",
    "Az eredeti egyenlőtlenség akkor áll fenn, ha a két tényező közül csak az egyik negatív, vagy bármelyik $0$.\n",
    "\n",
    "Ez pedig az ábra alapján akkor igaz, ha: $x\\leq -1$ vagy $x\\geq 1$."
   ]
  }
 ],
 "metadata": {
  "kernelspec": {
   "display_name": "Python 3",
   "language": "python",
   "name": "python3"
  },
  "language_info": {
   "codemirror_mode": {
    "name": "ipython",
    "version": 3
   },
   "file_extension": ".py",
   "mimetype": "text/x-python",
   "name": "python",
   "nbconvert_exporter": "python",
   "pygments_lexer": "ipython3",
   "version": "3.7.2"
  }
 },
 "nbformat": 4,
 "nbformat_minor": 2
}
