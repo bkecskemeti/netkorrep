{
 "cells": [
  {
   "cell_type": "markdown",
   "metadata": {},
   "source": [
    "# Általános jótanácsok:\n",
    "\n",
    "1. A matektanár is ember. Ő javítja a tesztet, és az a dolga, hogy pontokat adjon. Tedd neki könnyebbé, hogy pontokat adjon neked!\n",
    "2. Ezt úgy tudod elérni, ha jól struktúrálod a megoldást. A jól struktúrált megoldás fél siker. Ha nem is tökéletes, pontokat kaphatsz a részmegoldásra.\n",
    "3. Összevissza, érthetetlen félmegoldásra nem kapsz pontot. Akkor se, ha lehet benne valami ötlet csírája. A tanárnak sok dolga van még, és nem fog órákat azon filozófálni, hogy mire is gondolhattál.\n",
    "4. Hogyan struktúráld jól a megoldást?\n",
    "  - Írd le a definíciókat. A feladatok nagy része olyan, hogy, ha tudod a definíciót, akkor nem olyan nehéz a megoldás.\n",
    "  - Ha nem jön ki a megoldás, vagy számolási hiba van benne, a definícióra akkor is lehet, hogy kapsz pontot. Írd le a definíciót!\n",
    "  - Egyenleteket rendezz egymás alá, hogy világos legyen, melyik lépés melyik után jön.\n",
    "  - A megoldást húzd alá, vagy emeld ki valahogy.\n",
    "5. Az alábbi megoldások jó példák. Ki van emelve, mit tudunk, világos, melyik lépés melyik után jön, és, hogy hol a megoldás.\n",
    "6. A fontos részek a \"Tudjuk\" a \"Megoldás\", és a \"Tehát\" részek.\n",
    "7. A \"Példa\", és \"Megjegyzés\" részek nem szükségesek, csak azért vannak, hogy jobban értsd a megoldást."
   ]
  },
  {
   "cell_type": "markdown",
   "metadata": {},
   "source": [
    "## 1. feladat\n",
    "\n",
    "A kézilabda edzéseken 16 tanuló vesz részt, átlagmagasságuk 172 cm. Mennyi a magasságaik összege?"
   ]
  },
  {
   "cell_type": "markdown",
   "metadata": {},
   "source": [
    "### Megoldás:\n",
    "\n",
    "*Tudjuk:*\n",
    "\n",
    "Az átlagot definíció szerint úgy kell kiszámolni, hogy összeadjuk a magasságokat, és elosztjuk a tanulók számával.\n",
    "\n",
    "*Példa*:\n",
    "\n",
    "Két tanuló magassága 180 cm és 164 cm. A magasságaik átlaga ekkor 172 cm, mert:\n",
    "\n",
    "\\begin{equation*}\n",
    "\\frac{180 + 164}{2} = \\frac{344}{2} = 172\n",
    "\\end{equation*}\n",
    "\n",
    "A *magasságaik összegét* tehát úgy kapjuk, hogy az átlagot megszorozzuk a tanulók számával:\n",
    "\n",
    "\\begin{align*}\n",
    "\\frac{180 + 164}{2} = \\frac{344}{2} &= 172\\\\\n",
    "180 + 164 &= 2*172\n",
    "\\end{align*}\n",
    "\n",
    "*Tehát*:\n",
    "\n",
    "A megoldás módszere ugyanaz 2 tanuló és 16 tanuló esetén. A feladatban mind a 16 tanuló magasságait nem ismerjük, de nem is kell. Ha a magasságaik $m_1, m_2, ..., m_{16}$, akkor, az átlag definíciója alapján:\n",
    "\n",
    "\\begin{align*}\n",
    "\\frac{m_1 + m_2 + ... + m_{16}}{16} &= 172\\\\\n",
    "m_1 + m_2 + ... + m_{16} &= 16*172 = 2752\n",
    "\\end{align*}\n",
    "\n",
    "A válasz tehát az, hogy a 16 tanuló magasságainak összege **2752 cm**."
   ]
  },
  {
   "cell_type": "markdown",
   "metadata": {},
   "source": [
    "## 2. feladat\n",
    "\n",
    "A 8-nak és egy másik pozitív számnak a mértani közepe 12. Melyik ez a másik szám?"
   ]
  },
  {
   "cell_type": "markdown",
   "metadata": {},
   "source": [
    "### Megoldás:\n",
    "\n",
    "*Tudjuk:*\n",
    "\n",
    "Két szám, például $a$ és $b$, *mértani közepét* a következőképpen számoljuk ki:\n",
    "\n",
    "\\begin{equation*}\n",
    "\\sqrt{a*b}\n",
    "\\end{equation*}\n",
    "\n",
    "*Megjegyzés*:\n",
    "\n",
    "A *mértani közép* a geometriából jön. Ha adott egy téglalap, akkor a mértani közép azt fejezi ki, hogy mekkora négyzetté lehet gyúrni a téglalapot, hogy a területe változatlan maradjon.\n",
    "\n",
    "*Tehát*:\n",
    "\n",
    "Legyen $a=8$, és az ismeretlen pozitív szám $b$. A mértani közép definíciója alapján:\n",
    "\n",
    "\\begin{align*}\n",
    "\\sqrt{a*b}=\\sqrt{8*b}&=12\\\\\n",
    "8*b&=144\\\\\n",
    "b&=\\frac{144}{8}=18\n",
    "\\end{align*}\n",
    "\n",
    "Tehát a másik szám a **18**."
   ]
  },
  {
   "cell_type": "markdown",
   "metadata": {},
   "source": [
    "## 3. feladat\n",
    "\n",
    "Add meg az alábbi állítások igazságértékét (igaz vagy hamis), majd döntsd el, hogy a b) és a c) jelű állítások közül melyik az a) jelű állítás megfordítása!\n",
    "\n",
    "a. Ha az ABCD négyszög téglalap, akkor átlói felezik egymást.  \n",
    "b. Ha az ABCD négyszög átlói felezik egymást, akkor ez a négyszög téglalap  \n",
    "c. Ha az ABCD négyszög nem téglalap, akkor átlói nem felezik egymást."
   ]
  },
  {
   "cell_type": "markdown",
   "metadata": {},
   "source": [
    "### Megoldás\n"
   ]
  },
  {
   "cell_type": "markdown",
   "metadata": {},
   "source": [
    "## 4. feladat\n",
    "\n",
    "Egy szög szárait az ábrán látható módon párhuzamos egyenesekkel metszettük. Töltsd ki az alábbi táblázat üresen hagyott rovatait! (Az adatok ugyanabban a hosszúságegységben értendők.)"
   ]
  },
  {
   "cell_type": "markdown",
   "metadata": {},
   "source": [
    "### Megoldás\n",
    "\n",
    "Coming soon."
   ]
  },
  {
   "cell_type": "markdown",
   "metadata": {},
   "source": [
    "## 5. feladat\n",
    "\n",
    "Az ABCD négyszög szemközti oldalaira vektorokat illesztünk. AB = a, DC = b. Az AD oldal A-hoz közelebbi negyedelő\n",
    "pontja E, a BC oldal B-hez közelebbi negyedelő pontja F. Határozzuk meg az EF vektort az a és b vektorok segítségével."
   ]
  },
  {
   "cell_type": "markdown",
   "metadata": {},
   "source": [
    "### Megoldás\n",
    "\n",
    "Coming soon."
   ]
  },
  {
   "cell_type": "markdown",
   "metadata": {},
   "source": [
    "## 6. feladat\n",
    "\n",
    "Mely valós számokra értelmezhető a $\\frac{1}{\\sqrt{2x+7}}$ kifejezés? "
   ]
  },
  {
   "cell_type": "markdown",
   "metadata": {},
   "source": [
    "### Megoldás:\n",
    "\n",
    "*Tudjuk:*\n",
    "    \n",
    "1. Az $f(x)=\\sqrt{x}$ függvény valós számokra akkor értelmezett, ha $x$ nem negatív, azaz $x\\geq0$.\n",
    "2. Nullával nem lehet osztani, tehát a nevező nem lehet $0$.\n",
    "\n",
    "*Tehát:*\n",
    "\n",
    "A gyökvonás (1.) miatt:\n",
    "\\begin{align*}\n",
    "2x+7&\\geq 0\\\\\n",
    "x&\\geq -\\frac{7}{2}\n",
    "\\end{align*}\n",
    "\n",
    "Az osztás (2.) miatt:\n",
    "\\begin{align*}\n",
    "\\sqrt{2x+7}&\\neq 0\\\\\n",
    "2x+7&\\neq 0^2=0\\\\\n",
    "x&\\neq -\\frac{7}{2}\n",
    "\\end{align*}\n",
    "\n",
    "A két feltételnek egyszerre kell fenn állnia, azaz a megoldás $x> -\\frac{7}{2}$."
   ]
  }
 ],
 "metadata": {
  "kernelspec": {
   "display_name": "Python 3",
   "language": "python",
   "name": "python3"
  },
  "language_info": {
   "codemirror_mode": {
    "name": "ipython",
    "version": 3
   },
   "file_extension": ".py",
   "mimetype": "text/x-python",
   "name": "python",
   "nbconvert_exporter": "python",
   "pygments_lexer": "ipython3",
   "version": "3.7.2"
  }
 },
 "nbformat": 4,
 "nbformat_minor": 2
}
